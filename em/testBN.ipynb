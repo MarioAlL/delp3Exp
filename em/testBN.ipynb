{
 "cells": [
  {
   "cell_type": "code",
   "execution_count": 1,
   "outputs": [
    {
     "ename": "IOError",
     "evalue": "[pyAgrum] I/O Error: Couldn't load /home/mario/n1.bifxml <ticpp.cpp@707>\nDescription: Failed to open file\nFile: /home/mario/n1.bifxml\nLine: 0\nColumn: 0",
     "output_type": "error",
     "traceback": [
      "\u001B[0;31m---------------------------------------------------------------------------\u001B[0m",
      "\u001B[0;31mIOError\u001B[0m                                   Traceback (most recent call last)",
      "\u001B[0;32m<ipython-input-1-8bce561118b2>\u001B[0m in \u001B[0;36m<module>\u001B[0;34m\u001B[0m\n\u001B[1;32m      3\u001B[0m \u001B[0;31m#n1.build_save_random_BN(20, 20, True)\u001B[0m\u001B[0;34m\u001B[0m\u001B[0;34m\u001B[0m\u001B[0;34m\u001B[0m\u001B[0m\n\u001B[1;32m      4\u001B[0m \u001B[0;31m#a.build_save_random_BN(5,5,False)\u001B[0m\u001B[0;34m\u001B[0m\u001B[0;34m\u001B[0m\u001B[0;34m\u001B[0m\u001B[0m\n\u001B[0;32m----> 5\u001B[0;31m \u001B[0mn1\u001B[0m\u001B[0;34m.\u001B[0m\u001B[0mload_bn\u001B[0m\u001B[0;34m(\u001B[0m\u001B[0;34m)\u001B[0m\u001B[0;34m\u001B[0m\u001B[0;34m\u001B[0m\u001B[0m\n\u001B[0m\u001B[1;32m      6\u001B[0m \u001B[0;31m#b = BayesNetwork(\"test2\", \"./\")\u001B[0m\u001B[0;34m\u001B[0m\u001B[0;34m\u001B[0m\u001B[0;34m\u001B[0m\u001B[0m\n\u001B[1;32m      7\u001B[0m \u001B[0;31m#b.load_bn()\u001B[0m\u001B[0;34m\u001B[0m\u001B[0;34m\u001B[0m\u001B[0;34m\u001B[0m\u001B[0m\n",
      "\u001B[0;32m~/Documentos/projects/experiment/em/bn.py\u001B[0m in \u001B[0;36mload_bn\u001B[0;34m(self)\u001B[0m\n\u001B[1;32m    163\u001B[0m \u001B[0;34m\u001B[0m\u001B[0m\n\u001B[1;32m    164\u001B[0m     \u001B[0;32mdef\u001B[0m \u001B[0mload_bn\u001B[0m\u001B[0;34m(\u001B[0m\u001B[0mself\u001B[0m\u001B[0;34m)\u001B[0m\u001B[0;34m:\u001B[0m\u001B[0;34m\u001B[0m\u001B[0;34m\u001B[0m\u001B[0m\n\u001B[0;32m--> 165\u001B[0;31m         \u001B[0mbn\u001B[0m \u001B[0;34m=\u001B[0m \u001B[0mgum\u001B[0m\u001B[0;34m.\u001B[0m\u001B[0mloadBN\u001B[0m\u001B[0;34m(\u001B[0m\u001B[0mself\u001B[0m\u001B[0;34m.\u001B[0m\u001B[0mpath\u001B[0m \u001B[0;34m+\u001B[0m \u001B[0mself\u001B[0m\u001B[0;34m.\u001B[0m\u001B[0mname\u001B[0m \u001B[0;34m+\u001B[0m \u001B[0;34m'.bifxml'\u001B[0m\u001B[0;34m)\u001B[0m\u001B[0;34m\u001B[0m\u001B[0;34m\u001B[0m\u001B[0m\n\u001B[0m\u001B[1;32m    166\u001B[0m         \u001B[0mself\u001B[0m\u001B[0;34m.\u001B[0m\u001B[0mgenerator\u001B[0m \u001B[0;34m=\u001B[0m \u001B[0mgum\u001B[0m\u001B[0;34m.\u001B[0m\u001B[0mBNDatabaseGenerator\u001B[0m\u001B[0;34m(\u001B[0m\u001B[0mbn\u001B[0m\u001B[0;34m)\u001B[0m\u001B[0;34m\u001B[0m\u001B[0;34m\u001B[0m\u001B[0m\n\u001B[1;32m    167\u001B[0m         \u001B[0mself\u001B[0m\u001B[0;34m.\u001B[0m\u001B[0mie\u001B[0m \u001B[0;34m=\u001B[0m \u001B[0mgum\u001B[0m\u001B[0;34m.\u001B[0m\u001B[0mLazyPropagation\u001B[0m\u001B[0;34m(\u001B[0m\u001B[0mbn\u001B[0m\u001B[0;34m)\u001B[0m\u001B[0;34m\u001B[0m\u001B[0;34m\u001B[0m\u001B[0m\n",
      "\u001B[0;32m~/Documentos/projects/experiment/p3venv/lib/python3.7/site-packages/pyAgrum/functions.py\u001B[0m in \u001B[0;36mloadBN\u001B[0;34m(filename, listeners, verbose, **opts)\u001B[0m\n\u001B[1;32m     96\u001B[0m     \u001B[0mwarns\u001B[0m \u001B[0;34m=\u001B[0m \u001B[0mbn\u001B[0m\u001B[0;34m.\u001B[0m\u001B[0mloadBIF\u001B[0m\u001B[0;34m(\u001B[0m\u001B[0mfilename\u001B[0m\u001B[0;34m,\u001B[0m \u001B[0mlisteners\u001B[0m\u001B[0;34m)\u001B[0m\u001B[0;34m\u001B[0m\u001B[0;34m\u001B[0m\u001B[0m\n\u001B[1;32m     97\u001B[0m   \u001B[0;32melif\u001B[0m \u001B[0mextension\u001B[0m \u001B[0;34m==\u001B[0m \u001B[0;34m\"BIFXML\"\u001B[0m\u001B[0;34m:\u001B[0m\u001B[0;34m\u001B[0m\u001B[0;34m\u001B[0m\u001B[0m\n\u001B[0;32m---> 98\u001B[0;31m     \u001B[0mwarns\u001B[0m \u001B[0;34m=\u001B[0m \u001B[0mbn\u001B[0m\u001B[0;34m.\u001B[0m\u001B[0mloadBIFXML\u001B[0m\u001B[0;34m(\u001B[0m\u001B[0mfilename\u001B[0m\u001B[0;34m,\u001B[0m \u001B[0mlisteners\u001B[0m\u001B[0;34m)\u001B[0m\u001B[0;34m\u001B[0m\u001B[0;34m\u001B[0m\u001B[0m\n\u001B[0m\u001B[1;32m     99\u001B[0m   \u001B[0;32melif\u001B[0m \u001B[0mextension\u001B[0m \u001B[0;34m==\u001B[0m \u001B[0;34m\"DSL\"\u001B[0m\u001B[0;34m:\u001B[0m\u001B[0;34m\u001B[0m\u001B[0;34m\u001B[0m\u001B[0m\n\u001B[1;32m    100\u001B[0m     \u001B[0mwarns\u001B[0m \u001B[0;34m=\u001B[0m \u001B[0mbn\u001B[0m\u001B[0;34m.\u001B[0m\u001B[0mloadDSL\u001B[0m\u001B[0;34m(\u001B[0m\u001B[0mfilename\u001B[0m\u001B[0;34m,\u001B[0m \u001B[0mlisteners\u001B[0m\u001B[0;34m)\u001B[0m\u001B[0;34m\u001B[0m\u001B[0;34m\u001B[0m\u001B[0m\n",
      "\u001B[0;32m~/Documentos/projects/experiment/p3venv/lib/python3.7/site-packages/pyAgrum/pyAgrum.py\u001B[0m in \u001B[0;36mloadBIFXML\u001B[0;34m(self, *args)\u001B[0m\n\u001B[1;32m  10671\u001B[0m \u001B[0;34m\u001B[0m\u001B[0m\n\u001B[1;32m  10672\u001B[0m         \"\"\"\n\u001B[0;32m> 10673\u001B[0;31m         \u001B[0;32mreturn\u001B[0m \u001B[0m_pyAgrum\u001B[0m\u001B[0;34m.\u001B[0m\u001B[0mBayesNet_loadBIFXML\u001B[0m\u001B[0;34m(\u001B[0m\u001B[0mself\u001B[0m\u001B[0;34m,\u001B[0m \u001B[0;34m*\u001B[0m\u001B[0margs\u001B[0m\u001B[0;34m)\u001B[0m\u001B[0;34m\u001B[0m\u001B[0;34m\u001B[0m\u001B[0m\n\u001B[0m\u001B[1;32m  10674\u001B[0m \u001B[0;34m\u001B[0m\u001B[0m\n\u001B[1;32m  10675\u001B[0m     \u001B[0;32mdef\u001B[0m \u001B[0msaveBIFXML\u001B[0m\u001B[0;34m(\u001B[0m\u001B[0mself\u001B[0m\u001B[0;34m,\u001B[0m \u001B[0mname\u001B[0m\u001B[0;34m:\u001B[0m \u001B[0;34m\"std::string\"\u001B[0m\u001B[0;34m)\u001B[0m \u001B[0;34m->\u001B[0m \u001B[0;34m\"void\"\u001B[0m\u001B[0;34m:\u001B[0m\u001B[0;34m\u001B[0m\u001B[0;34m\u001B[0m\u001B[0m\n",
      "\u001B[0;31mIOError\u001B[0m: [pyAgrum] I/O Error: Couldn't load /home/mario/n1.bifxml <ticpp.cpp@707>\nDescription: Failed to open file\nFile: /home/mario/n1.bifxml\nLine: 0\nColumn: 0"
     ]
    }
   ],
   "source": [
    "from em.bn import *\n",
    "n1 = BayesNetwork(\"n1\", \"/home/mario/\")\n",
    "#n1.build_save_random_BN(20, 20, True)\n",
    "#a.build_save_random_BN(5,5,False)\n",
    "n1.load_bn()\n",
    "#b = BayesNetwork(\"test2\", \"./\")\n",
    "#b.load_bn()\n",
    "#b.build_save_BN(a.structure[0], a.structure[1], True)\n",
    "#print(test.bn.cpt(\"2\").var_names)"
   ],
   "metadata": {
    "collapsed": false,
    "pycharm": {
     "name": "#%%\n"
    }
   }
  },
  {
   "cell_type": "code",
   "execution_count": null,
   "outputs": [],
   "source": [
    "info = n1.get_nodes_information()\n",
    "print(info['nodes_no_parents'])\n",
    "print(info['nodes_2_parents'])\n",
    "print(info['nodes_more_parents'])\n",
    "print(info['nodes_with_childrens'])\n",
    "import pyAgrum.lib.notebook as gnb\n",
    "import pyAgrum as gum\n",
    "\n",
    "# Change the CPT of one BN\n",
    "#a.make_CPTs([2,3,4],0.9,1)\n",
    "#gnb.sideBySide(gnb.showInformation(a.bn), gnb.showInformation(b.bn), captions=[\"BN a\", \"BN b\"])\n",
    "#gnb.sideBySide(a.bn.cpt(2), b.bn.cpt(4))\n",
    "#gnb.sideBySide(gnb.showInformation(a.bn), gnb.showInformation(b.bn))"
   ],
   "metadata": {
    "collapsed": false,
    "pycharm": {
     "name": "#%%\n"
    }
   }
  },
  {
   "cell_type": "code",
   "execution_count": null,
   "outputs": [],
   "source": [
    "#print(a.getEntropy())\n",
    "#print(b.getEntropy())"
   ],
   "metadata": {
    "collapsed": false,
    "pycharm": {
     "name": "#%%\n"
    }
   }
  },
  {
   "cell_type": "code",
   "execution_count": null,
   "outputs": [],
   "source": [
    "#print(a.get_sampling_prob({2:1}))\n",
    "#print(b.get_sampling_prob({2:1}))\n",
    "#a.show_prob_dist(800)\n",
    "#b.show_prob_dist(800)"
   ],
   "metadata": {
    "collapsed": false,
    "pycharm": {
     "name": "#%%\n"
    }
   }
  },
  {
   "cell_type": "code",
   "execution_count": null,
   "outputs": [],
   "source": [
    "from em.bn import *\n",
    "import pyAgrum.lib.notebook as gnb\n"
   ],
   "metadata": {
    "collapsed": false,
    "pycharm": {
     "name": "#%%\n"
    }
   }
  }
 ],
 "metadata": {
  "kernelspec": {
   "display_name": "Python 3",
   "language": "python",
   "name": "python3"
  },
  "language_info": {
   "codemirror_mode": {
    "name": "ipython",
    "version": 2
   },
   "file_extension": ".py",
   "mimetype": "text/x-python",
   "name": "python",
   "nbconvert_exporter": "python",
   "pygments_lexer": "ipython2",
   "version": "2.7.6"
  }
 },
 "nbformat": 4,
 "nbformat_minor": 0
}